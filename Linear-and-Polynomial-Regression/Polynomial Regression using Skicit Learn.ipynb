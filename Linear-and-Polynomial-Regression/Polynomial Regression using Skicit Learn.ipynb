{
 "cells": [
  {
   "cell_type": "markdown",
   "id": "b08a7f04",
   "metadata": {},
   "source": [
    "# Problem statement\n",
    "\n",
    "\n",
    "Previosuly, in the notebook Linear Regression using Skicit Learn.ipynb we used the data from ISLR, which shows the sales (in thousands of units) for a particular product as a function of advertising budgets (in thousands of dollars) for TV, radio, and newspaper media to find the relationship between each advertising channel (TV,Radio,Newspaper) and sales. Also using the linear model we found the sales for  USD 150000 for TV, USD 380000 for radio and USD 20000 for newspaper.\n",
    "\n",
    "For the current problem statement, instead of using a degree of 1, we will use higher degree polynomial for the features to run the linear regression model and find out which degree is apt for our dataset. Also we will find the sales for  USD 150000 for TV, USD 380000 for radio and USD 20000 for newspaper using the higher degree model."
   ]
  },
  {
   "cell_type": "code",
   "execution_count": 1,
   "id": "9bc93107",
   "metadata": {},
   "outputs": [],
   "source": [
    "#import the required modules/libraries\n",
    "import numpy as np\n",
    "import pandas as pd\n",
    "import matplotlib.pyplot as plt\n",
    "import seaborn as sns"
   ]
  },
  {
   "cell_type": "code",
   "execution_count": 2,
   "id": "75c778ba",
   "metadata": {},
   "outputs": [],
   "source": [
    "#load the dataframe from the csv file\n",
    "df = pd.read_csv(\"Advertising.csv\")"
   ]
  },
  {
   "cell_type": "code",
   "execution_count": 6,
   "id": "aa55cdf4",
   "metadata": {},
   "outputs": [
    {
     "data": {
      "text/html": [
       "<div>\n",
       "<style scoped>\n",
       "    .dataframe tbody tr th:only-of-type {\n",
       "        vertical-align: middle;\n",
       "    }\n",
       "\n",
       "    .dataframe tbody tr th {\n",
       "        vertical-align: top;\n",
       "    }\n",
       "\n",
       "    .dataframe thead th {\n",
       "        text-align: right;\n",
       "    }\n",
       "</style>\n",
       "<table border=\"1\" class=\"dataframe\">\n",
       "  <thead>\n",
       "    <tr style=\"text-align: right;\">\n",
       "      <th></th>\n",
       "      <th>TV</th>\n",
       "      <th>radio</th>\n",
       "      <th>newspaper</th>\n",
       "      <th>sales</th>\n",
       "    </tr>\n",
       "  </thead>\n",
       "  <tbody>\n",
       "    <tr>\n",
       "      <th>0</th>\n",
       "      <td>230.1</td>\n",
       "      <td>37.8</td>\n",
       "      <td>69.2</td>\n",
       "      <td>22.1</td>\n",
       "    </tr>\n",
       "    <tr>\n",
       "      <th>1</th>\n",
       "      <td>44.5</td>\n",
       "      <td>39.3</td>\n",
       "      <td>45.1</td>\n",
       "      <td>10.4</td>\n",
       "    </tr>\n",
       "    <tr>\n",
       "      <th>2</th>\n",
       "      <td>17.2</td>\n",
       "      <td>45.9</td>\n",
       "      <td>69.3</td>\n",
       "      <td>9.3</td>\n",
       "    </tr>\n",
       "    <tr>\n",
       "      <th>3</th>\n",
       "      <td>151.5</td>\n",
       "      <td>41.3</td>\n",
       "      <td>58.5</td>\n",
       "      <td>18.5</td>\n",
       "    </tr>\n",
       "    <tr>\n",
       "      <th>4</th>\n",
       "      <td>180.8</td>\n",
       "      <td>10.8</td>\n",
       "      <td>58.4</td>\n",
       "      <td>12.9</td>\n",
       "    </tr>\n",
       "  </tbody>\n",
       "</table>\n",
       "</div>"
      ],
      "text/plain": [
       "      TV  radio  newspaper  sales\n",
       "0  230.1   37.8       69.2   22.1\n",
       "1   44.5   39.3       45.1   10.4\n",
       "2   17.2   45.9       69.3    9.3\n",
       "3  151.5   41.3       58.5   18.5\n",
       "4  180.8   10.8       58.4   12.9"
      ]
     },
     "execution_count": 6,
     "metadata": {},
     "output_type": "execute_result"
    }
   ],
   "source": [
    "#check the first few rows of the dataframe\n",
    "df.head()"
   ]
  },
  {
   "cell_type": "code",
   "execution_count": 4,
   "id": "fa16420e",
   "metadata": {},
   "outputs": [],
   "source": [
    "#getting the features matrix 'X'\n",
    "X = df.drop('sales', axis = 1)"
   ]
  },
  {
   "cell_type": "code",
   "execution_count": 5,
   "id": "2932f398",
   "metadata": {},
   "outputs": [],
   "source": [
    "#getting the target matrix 'y'\n",
    "y= df['sales']"
   ]
  },
  {
   "cell_type": "markdown",
   "id": "ff410a55",
   "metadata": {},
   "source": [
    "### Transforming and Fitting the current features of the dataset for higher degree polynomials"
   ]
  },
  {
   "cell_type": "code",
   "execution_count": 7,
   "id": "cb35fa52",
   "metadata": {},
   "outputs": [],
   "source": [
    "from sklearn.preprocessing import PolynomialFeatures"
   ]
  },
  {
   "cell_type": "code",
   "execution_count": 21,
   "id": "b073eefd",
   "metadata": {},
   "outputs": [
    {
     "data": {
      "text/plain": [
       "PolynomialFeatures(include_bias=False)"
      ]
     },
     "execution_count": 21,
     "metadata": {},
     "output_type": "execute_result"
    }
   ],
   "source": [
    "#creating an instance of Polynomial Features\n",
    "polynomial_converter = PolynomialFeatures(degree=2, include_bias=False)\n",
    "polynomial_converter.fit(X)"
   ]
  },
  {
   "cell_type": "code",
   "execution_count": 23,
   "id": "508128c1",
   "metadata": {},
   "outputs": [
    {
     "name": "stdout",
     "output_type": "stream",
     "text": [
      "[[ 230.1    37.8    69.2  ... 1428.84 2615.76 4788.64]\n",
      " [  44.5    39.3    45.1  ... 1544.49 1772.43 2034.01]\n",
      " [  17.2    45.9    69.3  ... 2106.81 3180.87 4802.49]\n",
      " ...\n",
      " [ 177.      9.3     6.4  ...   86.49   59.52   40.96]\n",
      " [ 283.6    42.     66.2  ... 1764.   2780.4  4382.44]\n",
      " [ 232.1     8.6     8.7  ...   73.96   74.82   75.69]] (200, 9)\n"
     ]
    }
   ],
   "source": [
    "poly_features = polynomial_converter.transform(X)\n",
    "print(poly_features, poly_features.shape)\n",
    "#we note the shape of the transformed matrix is 9. This includes X1, X2, X3,  X1X2, X1X2, X2X3, X1^2, X2^2, X3^2. Since we kept include_bias = False, we did not get the additional column having 1's."
   ]
  },
  {
   "cell_type": "markdown",
   "id": "bc1e3209",
   "metadata": {},
   "source": [
    "### Train | Test Split using Skicit Learn"
   ]
  },
  {
   "cell_type": "code",
   "execution_count": 24,
   "id": "bc18f56e",
   "metadata": {},
   "outputs": [],
   "source": [
    "from sklearn.model_selection import train_test_split"
   ]
  },
  {
   "cell_type": "code",
   "execution_count": 25,
   "id": "763511fd",
   "metadata": {},
   "outputs": [],
   "source": [
    " X_train, X_test, y_train, y_test = train_test_split(poly_features, y, test_size=0.30, random_state=101)"
   ]
  },
  {
   "cell_type": "code",
   "execution_count": 26,
   "id": "4486248e",
   "metadata": {},
   "outputs": [],
   "source": [
    "from sklearn.linear_model import LinearRegression"
   ]
  },
  {
   "cell_type": "code",
   "execution_count": 27,
   "id": "19586886",
   "metadata": {},
   "outputs": [],
   "source": [
    "#creating an instance of the LinearRegression\n",
    "model = LinearRegression()"
   ]
  },
  {
   "cell_type": "code",
   "execution_count": 28,
   "id": "9941087d",
   "metadata": {},
   "outputs": [
    {
     "data": {
      "text/plain": [
       "LinearRegression()"
      ]
     },
     "execution_count": 28,
     "metadata": {},
     "output_type": "execute_result"
    }
   ],
   "source": [
    "#training the model on the 9 features\n",
    "model.fit(X_train, y_train)"
   ]
  },
  {
   "cell_type": "code",
   "execution_count": 34,
   "id": "314e204a",
   "metadata": {},
   "outputs": [],
   "source": [
    "test_predictions = model.predict(X_test)"
   ]
  },
  {
   "cell_type": "markdown",
   "id": "9e7d323b",
   "metadata": {},
   "source": [
    "### Calculate Performance on Test Set using Metrics\n",
    "\n",
    "We use the below metrics for performance evaluation for our regression model:\n",
    "Mean Absolute Error (MAE) is the mean of the absolute value of the errors:\n",
    "\n",
    "$$\\frac 1n\\sum_{i=1}^n|y_i-\\hat{y}_i|$$\n",
    " \n",
    "Mean Squared Error (MSE) is the mean of the squared errors:\n",
    "\n",
    "$$\\frac 1n\\sum_{i=1}^n(y_i-\\hat{y}_i)^2$$\n",
    " \n",
    "Root Mean Squared Error (RMSE) is the square root of the mean of the squared errors:\n",
    "\n",
    "$$\\sqrt{\\frac 1n\\sum_{i=1}^n(y_i-\\hat{y}_i)^2}$$\n",
    " "
   ]
  },
  {
   "cell_type": "code",
   "execution_count": 30,
   "id": "a4e760e1",
   "metadata": {},
   "outputs": [],
   "source": [
    "from sklearn.metrics import mean_absolute_error,mean_squared_error"
   ]
  },
  {
   "cell_type": "code",
   "execution_count": 35,
   "id": "3ba4c3c7",
   "metadata": {},
   "outputs": [],
   "source": [
    "MAE = mean_absolute_error(y_test,test_predictions)\n",
    "MSE = mean_squared_error(y_test,test_predictions)\n",
    "RMSE = np.sqrt(MSE)"
   ]
  },
  {
   "cell_type": "code",
   "execution_count": 36,
   "id": "8076c1ba",
   "metadata": {},
   "outputs": [
    {
     "name": "stdout",
     "output_type": "stream",
     "text": [
      "y_mean, MAE, RMSE:  14.022500000000003 0.48967980448038056 0.664643175726924\n",
      "Percetage MAE:  3.0 %\n",
      "Percetage RMSE:  5.0 %\n"
     ]
    }
   ],
   "source": [
    "y_mean = np.mean(df['sales'])\n",
    "print('y_mean, MAE, RMSE: ', y_mean, MAE, RMSE)\n",
    "print(f'Percetage MAE:  {round((MAE/y_mean)*100,0)} %')\n",
    "print(f'Percetage RMSE:  {round((RMSE/y_mean)*100,0)} %')"
   ]
  },
  {
   "cell_type": "markdown",
   "id": "ab9f531b",
   "metadata": {},
   "source": [
    "### Plotting residuals"
   ]
  },
  {
   "cell_type": "code",
   "execution_count": 79,
   "id": "da3936be",
   "metadata": {},
   "outputs": [
    {
     "data": {
      "text/plain": [
       "<matplotlib.lines.Line2D at 0x1d6e1222e20>"
      ]
     },
     "execution_count": 79,
     "metadata": {},
     "output_type": "execute_result"
    },
    {
     "data": {
      "image/png": "[encoded data removed]",
      "text/plain": [
       "<Figure size 432x288 with 1 Axes>"
      ]
     },
     "metadata": {
      "needs_background": "light"
     },
     "output_type": "display_data"
    }
   ],
   "source": [
    "#plotting the residual errors vs y_test\n",
    "test_residuals = y_test - test_predictions\n",
    "sns.scatterplot(x=y_test, y=test_residuals)\n",
    "plt.axhline(y=0, color='r', linestyle='--')"
   ]
  },
  {
   "cell_type": "markdown",
   "id": "630e5a83",
   "metadata": {},
   "source": [
    "\n",
    "The residual plot follows a random distribution around the zero residual line, thus we can say that linear regression model (with polynomial degree of 2) is apt for our dataset. In case the distribution of our residuals were ordered, linear regression model used by us here would not have been a correct choice."
   ]
  },
  {
   "cell_type": "markdown",
   "id": "4d3b04b7",
   "metadata": {},
   "source": [
    "<b>Will including the parameter include_bias cause any difference?</b>"
   ]
  },
  {
   "cell_type": "code",
   "execution_count": 48,
   "id": "6ea0570e",
   "metadata": {},
   "outputs": [],
   "source": [
    "polynomial_converter_include_bias = PolynomialFeatures(degree=2, include_bias=True)\n",
    "poly_features = polynomial_converter_include_bias.fit_transform(X)"
   ]
  },
  {
   "cell_type": "code",
   "execution_count": 52,
   "id": "0c70d5aa",
   "metadata": {},
   "outputs": [],
   "source": [
    "X_train, X_test, y_train, y_test = train_test_split(poly_features, y, test_size=0.30, random_state=101)\n",
    "model = LinearRegression()\n",
    "model.fit(X_train, y_train)\n",
    "test_predictions_new = model.predict(X_test)\n",
    "MAE_new = mean_absolute_error(y_test,test_predictions_new)\n",
    "MSE_new = mean_squared_error(y_test,test_predictions_new)\n",
    "RMSE_new = np.sqrt(MSE_new)"
   ]
  },
  {
   "cell_type": "code",
   "execution_count": 53,
   "id": "c754650c",
   "metadata": {},
   "outputs": [
    {
     "name": "stdout",
     "output_type": "stream",
     "text": [
      "y_mean, MAE_include_bias, RMSE_include_bias:  14.022500000000003 0.4896798044804092 0.6646431757269586\n",
      "Percetage MAE:  3.0 %\n",
      "Percetage RMSE:  5.0 %\n"
     ]
    }
   ],
   "source": [
    "y_mean = np.mean(df['sales'])\n",
    "print('y_mean, MAE_include_bias, RMSE_include_bias: ', y_mean, MAE_new, RMSE_new)\n",
    "print(f'Percetage MAE:  {round((MAE_new/y_mean)*100,0)} %')\n",
    "print(f'Percetage RMSE:  {round((RMSE_new/y_mean)*100,0)} %')"
   ]
  },
  {
   "cell_type": "markdown",
   "id": "045b5b8a",
   "metadata": {},
   "source": [
    "Thus for our current dataset, including the pararmeter \"include_bias=True\" shows no difference and thus we will skip it for future calculations."
   ]
  },
  {
   "cell_type": "markdown",
   "id": "83e03606",
   "metadata": {},
   "source": [
    "<b> From the Linear Regression using skicit Learn.ipynb using linear coefficients (degree as one), we saw that the accuracy metrics were as below:</b>\n"
   ]
  },
  {
   "cell_type": "code",
   "execution_count": 37,
   "id": "7a5ca06b",
   "metadata": {},
   "outputs": [],
   "source": [
    "MAE_old = 1.2137457736144805 \n",
    "RMSE_old = 1.5161519375993877"
   ]
  },
  {
   "cell_type": "code",
   "execution_count": 43,
   "id": "cd2bffac",
   "metadata": {},
   "outputs": [
    {
     "name": "stdout",
     "output_type": "stream",
     "text": [
      "Percentage decrease in MAE is 59.66%\n",
      "Percentage decrease in RMSE is 56.16%\n"
     ]
    }
   ],
   "source": [
    "print(f'Percentage decrease in MAE is {round((MAE_old-MAE)/MAE_old *100,2)}%')\n",
    "print(f'Percentage decrease in RMSE is {round((RMSE_old-RMSE)/RMSE_old *100,2)}%')"
   ]
  },
  {
   "cell_type": "markdown",
   "id": "6332d30a",
   "metadata": {},
   "source": [
    "Thus, using a second degree polynomial for our regression model helped us reduce the errors."
   ]
  },
  {
   "cell_type": "markdown",
   "id": "e7be9955",
   "metadata": {},
   "source": [
    "### Does that mean increasing the feature degree in Regression leads to lesser errors? Let's check out!"
   ]
  },
  {
   "cell_type": "code",
   "execution_count": 46,
   "id": "4e0e85a8",
   "metadata": {},
   "outputs": [],
   "source": [
    "#initialising empty arrays for test and train data for MAE and RMSE\n",
    "train_rmse_errors = []\n",
    "test_rmse_errors = []\n",
    "train_mae_errors = []\n",
    "test_mae_errors = []\n",
    "\n",
    "#testing till degree of 20 for rmse\n",
    "\n",
    "for i in range(1,20):\n",
    "    \n",
    "    polynomial_converter = PolynomialFeatures(degree=i, include_bias=False)\n",
    "    poly_features = polynomial_converter.fit_transform(X)\n",
    "    X_train, X_test, y_train, y_test = train_test_split(poly_features, y, test_size=0.30, random_state=101)\n",
    "    \n",
    "    model = LinearRegression()\n",
    "    model.fit(X_train, y_train)\n",
    "    \n",
    "    train_predictions = model.predict(X_train)\n",
    "    test_predictions = model.predict(X_test)\n",
    "    \n",
    "    train_rmse = np.sqrt(mean_squared_error(y_train,train_predictions))\n",
    "    test_rmse = np.sqrt(mean_squared_error(y_test,test_predictions))\n",
    "    \n",
    "    train_rmse_errors.append(train_rmse)\n",
    "    test_rmse_errors.append(test_rmse)\n",
    "    \n",
    "#testing till degree of 20 for mae\n",
    "\n",
    "for i in range(1,20):\n",
    "    \n",
    "    polynomial_converter = PolynomialFeatures(degree=i, include_bias=False)\n",
    "    poly_features = polynomial_converter.fit_transform(X)\n",
    "    X_train, X_test, y_train, y_test = train_test_split(poly_features, y, test_size=0.30, random_state=101)\n",
    "    \n",
    "    model = LinearRegression()\n",
    "    model.fit(X_train, y_train)\n",
    "    \n",
    "    train_predictions = model.predict(X_train)\n",
    "    test_predictions = model.predict(X_test)\n",
    "    \n",
    "    train_mae = np.sqrt(mean_absolute_error(y_train,train_predictions))\n",
    "    test_mae = np.sqrt(mean_absolute_error(y_test,test_predictions))\n",
    "    \n",
    "    train_mae_errors.append(train_mae)\n",
    "    test_mae_errors.append(test_mae)    "
   ]
  },
  {
   "cell_type": "code",
   "execution_count": 61,
   "id": "874349cb",
   "metadata": {},
   "outputs": [
    {
     "data": {
      "image/png": "[encoded data removed]",
      "text/plain": [
       "<Figure size 432x288 with 1 Axes>"
      ]
     },
     "metadata": {
      "needs_background": "light"
     },
     "output_type": "display_data"
    }
   ],
   "source": [
    "#visualizing if increasing the polynomial degree is beneficial for our dataset. Plotting all 20 values is not visually appealing so we go with 5 values only.\n",
    "plt.plot(range(1,6),train_rmse_errors[:5],label='TRAIN')\n",
    "plt.plot(range(1,6),test_rmse_errors[:5],label='TEST')\n",
    "plt.xlabel(\"Polynomial Complexity\")\n",
    "plt.ylabel(\"RMSE\")\n",
    "plt.legend()\n",
    "plt.show()"
   ]
  },
  {
   "cell_type": "code",
   "execution_count": 67,
   "id": "23b1ee55",
   "metadata": {},
   "outputs": [
    {
     "data": {
      "image/png": "[encoded data removed]",
      "text/plain": [
       "<Figure size 432x288 with 1 Axes>"
      ]
     },
     "metadata": {
      "needs_background": "light"
     },
     "output_type": "display_data"
    }
   ],
   "source": [
    "#visualizing if increasing the polynomial degree is beneficial for our dataset. Plotting all 20 values is not visually appealing so we go with 5 values only.\n",
    "plt.plot(range(1,6),train_mae_errors[:5],label='TRAIN')\n",
    "plt.plot(range(1,6),test_mae_errors[:5],label='TEST')\n",
    "plt.xlabel(\"Polynomial Complexity\")\n",
    "plt.ylabel(\"MAE\")\n",
    "plt.legend()\n",
    "plt.show()"
   ]
  },
  {
   "cell_type": "markdown",
   "id": "d8a69163",
   "metadata": {},
   "source": [
    "<b>Inference from above graphs:</b>\n",
    "\n",
    "It is thus evident that for the test data, increasing the degree of polynomial is decreasing the errors (both RMSE and MAE). Howeever, for the training data we see that after the degree of four, the errors shoot up. This shows that the model is overfitting our dataset for polynomial degrees greater than four and such values should be avoided.\n",
    "\n",
    "For our dataset, a polynomial degree of four gives the minimum errors, but it comes with an added complexity. "
   ]
  },
  {
   "cell_type": "markdown",
   "id": "e8736802",
   "metadata": {},
   "source": [
    "### Saving model for future use"
   ]
  },
  {
   "cell_type": "code",
   "execution_count": 68,
   "id": "9e768d3d",
   "metadata": {},
   "outputs": [
    {
     "data": {
      "text/plain": [
       "LinearRegression()"
      ]
     },
     "execution_count": 68,
     "metadata": {},
     "output_type": "execute_result"
    }
   ],
   "source": [
    "# Based on our chart, could have also been degree=4, but we select a degree of 3 to avoid complexity\n",
    "final_poly_converter = PolynomialFeatures(degree=3,include_bias=False)\n",
    "final_model = LinearRegression()\n",
    "final_model.fit(final_poly_converter.fit_transform(X),y)"
   ]
  },
  {
   "cell_type": "code",
   "execution_count": 72,
   "id": "2f82d90b",
   "metadata": {},
   "outputs": [
    {
     "data": {
      "text/plain": [
       "['polynomial_reg_using_skicitlearn_converter.joblib']"
      ]
     },
     "execution_count": 72,
     "metadata": {},
     "output_type": "execute_result"
    }
   ],
   "source": [
    "#saving the model and converter\n",
    "from joblib import dump, load\n",
    "dump(final_model, 'polynomial_reg_using_skicitlearn_model.joblib') \n",
    "dump(final_poly_converter,'polynomial_reg_using_skicitlearn_converter.joblib')"
   ]
  },
  {
   "cell_type": "markdown",
   "id": "526dfbd6",
   "metadata": {},
   "source": [
    "### Prediction on New Data\n",
    "\n",
    "As per the question, we need to estimate the increase in the units of sales with spending 150k for TV, 380k for Radio and 20k for Newspaper and compare the sales when we used a linear degree to get the output."
   ]
  },
  {
   "cell_type": "code",
   "execution_count": 70,
   "id": "54e41c09",
   "metadata": {},
   "outputs": [],
   "source": [
    "new_spends = [[149,22,12]]"
   ]
  },
  {
   "cell_type": "code",
   "execution_count": 73,
   "id": "d6a79668",
   "metadata": {},
   "outputs": [],
   "source": [
    "loaded_poly = load('polynomial_reg_using_skicitlearn_converter.joblib')\n",
    "loaded_model = load('polynomial_reg_using_skicitlearn_model.joblib')"
   ]
  },
  {
   "cell_type": "code",
   "execution_count": 75,
   "id": "5fd4714d",
   "metadata": {},
   "outputs": [
    {
     "name": "stderr",
     "output_type": "stream",
     "text": [
      "C:\\ProgramData\\Anaconda3\\lib\\site-packages\\sklearn\\base.py:450: UserWarning: X does not have valid feature names, but PolynomialFeatures was fitted with feature names\n",
      "  warnings.warn(\n"
     ]
    }
   ],
   "source": [
    "new_spends_poly = loaded_poly.transform(new_spends)"
   ]
  },
  {
   "cell_type": "code",
   "execution_count": 78,
   "id": "974ba91d",
   "metadata": {},
   "outputs": [
    {
     "name": "stdout",
     "output_type": "stream",
     "text": [
      "By spending 150k for TV, 380k for Radio and 20k for Newspaper, we can expect to sell 14645.0 units.\n"
     ]
    }
   ],
   "source": [
    "print(f\"By spending 150k for TV, 380k for Radio and 20k for Newspaper, we can expect to sell {round(final_model.predict(new_spends_poly)[0]*1000,0)} units.\")"
   ]
  },
  {
   "cell_type": "markdown",
   "id": "902838b5",
   "metadata": {},
   "source": [
    "<b>Thus, as opposed to 13893 sale units which we got from using a polynomial degree of 1, we expect to sell 14645 sale units using a model with polynomial degree of 3. </b>"
   ]
  },
  {
   "cell_type": "code",
   "execution_count": null,
   "id": "85205b99",
   "metadata": {},
   "outputs": [],
   "source": []
  }
 ],
 "metadata": {
  "kernelspec": {
   "display_name": "Python 3 (ipykernel)",
   "language": "python",
   "name": "python3"
  },
  "language_info": {
   "codemirror_mode": {
    "name": "ipython",
    "version": 3
   },
   "file_extension": ".py",
   "mimetype": "text/x-python",
   "name": "python",
   "nbconvert_exporter": "python",
   "pygments_lexer": "ipython3",
   "version": "3.9.12"
  }
 },
 "nbformat": 4,
 "nbformat_minor": 5
}
